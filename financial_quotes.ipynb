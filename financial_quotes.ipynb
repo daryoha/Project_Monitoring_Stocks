{
 "cells": [
  {
   "cell_type": "markdown",
   "id": "5fdc61d7",
   "metadata": {
    "toc": true
   },
   "source": [
    "<h1>Оглавление<span class=\"tocSkip\"></span></h1>\n",
    "<div class=\"toc\"><ul class=\"toc-item\"></ul></div>"
   ]
  },
  {
   "cell_type": "code",
   "execution_count": 1,
   "id": "ca0eb4dd",
   "metadata": {
    "ExecuteTime": {
     "end_time": "2023-11-17T18:42:07.312332Z",
     "start_time": "2023-11-17T18:42:07.308458Z"
    }
   },
   "outputs": [],
   "source": [
    "#!pip install apimoex"
   ]
  },
  {
   "cell_type": "code",
   "execution_count": 2,
   "id": "24be1fb0",
   "metadata": {
    "ExecuteTime": {
     "end_time": "2023-11-17T18:42:08.448580Z",
     "start_time": "2023-11-17T18:42:07.315426Z"
    }
   },
   "outputs": [],
   "source": [
    "import requests\n",
    "import numpy as np\n",
    "import apimoex\n",
    "import pandas as pd\n",
    "from datetime import date, timedelta\n",
    "import matplotlib.pyplot as plt"
   ]
  },
  {
   "cell_type": "code",
   "execution_count": 3,
   "id": "6da220e4",
   "metadata": {
    "ExecuteTime": {
     "end_time": "2023-11-17T18:42:08.455228Z",
     "start_time": "2023-11-17T18:42:08.451208Z"
    }
   },
   "outputs": [],
   "source": [
    "stock_quotes = ['GAZP', 'YNDX', 'RUAL', 'IRAO', 'GMKN', 'LKOH', 'MGNT', 'MTSS', 'NVTK', 'PLZL', 'ROSN', 'SBER',\n",
    "               'SNGS', 'TATN','CHMF']"
   ]
  },
  {
   "cell_type": "code",
   "execution_count": 4,
   "id": "09467f1a",
   "metadata": {
    "ExecuteTime": {
     "end_time": "2023-11-17T18:42:26.351184Z",
     "start_time": "2023-11-17T18:42:08.459415Z"
    }
   },
   "outputs": [
    {
     "name": "stdout",
     "output_type": "stream",
     "text": [
      "GAZP 2014-06-09\n",
      "YNDX 2014-06-04\n",
      "RUAL 2015-03-30\n",
      "IRAO 2013-07-08\n",
      "GMKN 2014-06-09\n",
      "LKOH 2013-03-25\n",
      "MGNT 2013-07-08\n",
      "MTSS 2013-07-08\n",
      "NVTK 2013-03-25\n",
      "PLZL 2014-06-09\n",
      "ROSN 2014-06-09\n",
      "SBER 2013-03-25\n",
      "SNGS 2014-06-09\n",
      "TATN 2013-07-08\n",
      "CHMF 2014-06-09\n"
     ]
    }
   ],
   "source": [
    "with requests.Session() as session:\n",
    "    for elem in stock_quotes:\n",
    "        data = apimoex.get_board_history(session, elem)\n",
    "        df_2 = pd.DataFrame(data)\n",
    "        df_2.rename(columns = {'CLOSE':elem}, inplace = True)\n",
    "        print(elem, df_2['TRADEDATE'][0])"
   ]
  },
  {
   "cell_type": "code",
   "execution_count": 5,
   "id": "d00869ea",
   "metadata": {
    "ExecuteTime": {
     "end_time": "2023-11-17T18:42:26.357854Z",
     "start_time": "2023-11-17T18:42:26.353433Z"
    }
   },
   "outputs": [],
   "source": [
    "df = pd.DataFrame({\"Date\": pd.date_range(start='2015-03-30', freq='1d', end=date.today() - timedelta(days=1))})"
   ]
  },
  {
   "cell_type": "code",
   "execution_count": 6,
   "id": "10f9f44d",
   "metadata": {
    "ExecuteTime": {
     "end_time": "2023-11-17T18:42:26.374010Z",
     "start_time": "2023-11-17T18:42:26.360615Z"
    }
   },
   "outputs": [
    {
     "data": {
      "text/html": [
       "<div>\n",
       "<style scoped>\n",
       "    .dataframe tbody tr th:only-of-type {\n",
       "        vertical-align: middle;\n",
       "    }\n",
       "\n",
       "    .dataframe tbody tr th {\n",
       "        vertical-align: top;\n",
       "    }\n",
       "\n",
       "    .dataframe thead th {\n",
       "        text-align: right;\n",
       "    }\n",
       "</style>\n",
       "<table border=\"1\" class=\"dataframe\">\n",
       "  <thead>\n",
       "    <tr style=\"text-align: right;\">\n",
       "      <th></th>\n",
       "      <th>Date</th>\n",
       "    </tr>\n",
       "  </thead>\n",
       "  <tbody>\n",
       "    <tr>\n",
       "      <th>0</th>\n",
       "      <td>2015-03-30</td>\n",
       "    </tr>\n",
       "    <tr>\n",
       "      <th>1</th>\n",
       "      <td>2015-03-31</td>\n",
       "    </tr>\n",
       "    <tr>\n",
       "      <th>2</th>\n",
       "      <td>2015-04-01</td>\n",
       "    </tr>\n",
       "    <tr>\n",
       "      <th>3</th>\n",
       "      <td>2015-04-02</td>\n",
       "    </tr>\n",
       "    <tr>\n",
       "      <th>4</th>\n",
       "      <td>2015-04-03</td>\n",
       "    </tr>\n",
       "    <tr>\n",
       "      <th>...</th>\n",
       "      <td>...</td>\n",
       "    </tr>\n",
       "    <tr>\n",
       "      <th>3149</th>\n",
       "      <td>2023-11-12</td>\n",
       "    </tr>\n",
       "    <tr>\n",
       "      <th>3150</th>\n",
       "      <td>2023-11-13</td>\n",
       "    </tr>\n",
       "    <tr>\n",
       "      <th>3151</th>\n",
       "      <td>2023-11-14</td>\n",
       "    </tr>\n",
       "    <tr>\n",
       "      <th>3152</th>\n",
       "      <td>2023-11-15</td>\n",
       "    </tr>\n",
       "    <tr>\n",
       "      <th>3153</th>\n",
       "      <td>2023-11-16</td>\n",
       "    </tr>\n",
       "  </tbody>\n",
       "</table>\n",
       "<p>3154 rows × 1 columns</p>\n",
       "</div>"
      ],
      "text/plain": [
       "           Date\n",
       "0    2015-03-30\n",
       "1    2015-03-31\n",
       "2    2015-04-01\n",
       "3    2015-04-02\n",
       "4    2015-04-03\n",
       "...         ...\n",
       "3149 2023-11-12\n",
       "3150 2023-11-13\n",
       "3151 2023-11-14\n",
       "3152 2023-11-15\n",
       "3153 2023-11-16\n",
       "\n",
       "[3154 rows x 1 columns]"
      ]
     },
     "execution_count": 6,
     "metadata": {},
     "output_type": "execute_result"
    }
   ],
   "source": [
    "df"
   ]
  },
  {
   "cell_type": "code",
   "execution_count": 7,
   "id": "e7a03e05",
   "metadata": {
    "ExecuteTime": {
     "end_time": "2023-11-17T18:42:44.440134Z",
     "start_time": "2023-11-17T18:42:26.376518Z"
    }
   },
   "outputs": [],
   "source": [
    "with requests.Session() as session:\n",
    "    for elem in stock_quotes:\n",
    "        data = apimoex.get_board_history(session, elem)\n",
    "        data = pd.DataFrame(data)\n",
    "        data.rename(columns = {'CLOSE':elem}, inplace = True)\n",
    "        data['TRADEDATE'] = pd.to_datetime(data['TRADEDATE'])\n",
    "        data = data[data['TRADEDATE'] >= '2015-03-30' ]\n",
    "        df = df.merge(data[[elem, 'TRADEDATE']], left_on='Date', right_on='TRADEDATE', how='outer')\n",
    "        df = df.drop('TRADEDATE', axis=1)"
   ]
  },
  {
   "cell_type": "code",
   "execution_count": 8,
   "id": "19557bc6",
   "metadata": {
    "ExecuteTime": {
     "end_time": "2023-11-17T18:42:44.473075Z",
     "start_time": "2023-11-17T18:42:44.442974Z"
    }
   },
   "outputs": [
    {
     "data": {
      "text/html": [
       "<div>\n",
       "<style scoped>\n",
       "    .dataframe tbody tr th:only-of-type {\n",
       "        vertical-align: middle;\n",
       "    }\n",
       "\n",
       "    .dataframe tbody tr th {\n",
       "        vertical-align: top;\n",
       "    }\n",
       "\n",
       "    .dataframe thead th {\n",
       "        text-align: right;\n",
       "    }\n",
       "</style>\n",
       "<table border=\"1\" class=\"dataframe\">\n",
       "  <thead>\n",
       "    <tr style=\"text-align: right;\">\n",
       "      <th></th>\n",
       "      <th>Date</th>\n",
       "      <th>GAZP</th>\n",
       "      <th>YNDX</th>\n",
       "      <th>RUAL</th>\n",
       "      <th>IRAO</th>\n",
       "      <th>GMKN</th>\n",
       "      <th>LKOH</th>\n",
       "      <th>MGNT</th>\n",
       "      <th>MTSS</th>\n",
       "      <th>NVTK</th>\n",
       "      <th>PLZL</th>\n",
       "      <th>ROSN</th>\n",
       "      <th>SBER</th>\n",
       "      <th>SNGS</th>\n",
       "      <th>TATN</th>\n",
       "      <th>CHMF</th>\n",
       "    </tr>\n",
       "  </thead>\n",
       "  <tbody>\n",
       "    <tr>\n",
       "      <th>0</th>\n",
       "      <td>2015-03-30</td>\n",
       "      <td>137.00</td>\n",
       "      <td>887.0</td>\n",
       "      <td>37.340</td>\n",
       "      <td>1.0450</td>\n",
       "      <td>10530.0</td>\n",
       "      <td>2657.0</td>\n",
       "      <td>11185.0</td>\n",
       "      <td>246.30</td>\n",
       "      <td>432.0</td>\n",
       "      <td>1028.0</td>\n",
       "      <td>247.50</td>\n",
       "      <td>63.01</td>\n",
       "      <td>35.690</td>\n",
       "      <td>278.9</td>\n",
       "      <td>657.00</td>\n",
       "    </tr>\n",
       "    <tr>\n",
       "      <th>1</th>\n",
       "      <td>2015-03-31</td>\n",
       "      <td>138.90</td>\n",
       "      <td>893.0</td>\n",
       "      <td>36.790</td>\n",
       "      <td>1.0999</td>\n",
       "      <td>10399.0</td>\n",
       "      <td>2705.0</td>\n",
       "      <td>11350.0</td>\n",
       "      <td>247.00</td>\n",
       "      <td>432.0</td>\n",
       "      <td>1016.5</td>\n",
       "      <td>252.15</td>\n",
       "      <td>62.88</td>\n",
       "      <td>35.100</td>\n",
       "      <td>287.0</td>\n",
       "      <td>658.00</td>\n",
       "    </tr>\n",
       "    <tr>\n",
       "      <th>2</th>\n",
       "      <td>2015-04-01</td>\n",
       "      <td>143.00</td>\n",
       "      <td>902.0</td>\n",
       "      <td>35.825</td>\n",
       "      <td>1.1200</td>\n",
       "      <td>10539.0</td>\n",
       "      <td>2755.0</td>\n",
       "      <td>11750.0</td>\n",
       "      <td>250.90</td>\n",
       "      <td>450.3</td>\n",
       "      <td>1028.0</td>\n",
       "      <td>261.35</td>\n",
       "      <td>64.50</td>\n",
       "      <td>35.990</td>\n",
       "      <td>300.1</td>\n",
       "      <td>644.50</td>\n",
       "    </tr>\n",
       "    <tr>\n",
       "      <th>3</th>\n",
       "      <td>2015-04-02</td>\n",
       "      <td>143.90</td>\n",
       "      <td>919.0</td>\n",
       "      <td>36.450</td>\n",
       "      <td>1.1034</td>\n",
       "      <td>10090.0</td>\n",
       "      <td>2780.5</td>\n",
       "      <td>11971.0</td>\n",
       "      <td>250.00</td>\n",
       "      <td>467.2</td>\n",
       "      <td>1011.0</td>\n",
       "      <td>262.55</td>\n",
       "      <td>65.92</td>\n",
       "      <td>37.000</td>\n",
       "      <td>301.5</td>\n",
       "      <td>643.00</td>\n",
       "    </tr>\n",
       "    <tr>\n",
       "      <th>4</th>\n",
       "      <td>2015-04-03</td>\n",
       "      <td>143.94</td>\n",
       "      <td>940.0</td>\n",
       "      <td>36.720</td>\n",
       "      <td>1.1050</td>\n",
       "      <td>10237.0</td>\n",
       "      <td>2824.8</td>\n",
       "      <td>11799.0</td>\n",
       "      <td>248.60</td>\n",
       "      <td>476.4</td>\n",
       "      <td>1013.0</td>\n",
       "      <td>263.70</td>\n",
       "      <td>65.50</td>\n",
       "      <td>36.690</td>\n",
       "      <td>299.0</td>\n",
       "      <td>641.05</td>\n",
       "    </tr>\n",
       "    <tr>\n",
       "      <th>...</th>\n",
       "      <td>...</td>\n",
       "      <td>...</td>\n",
       "      <td>...</td>\n",
       "      <td>...</td>\n",
       "      <td>...</td>\n",
       "      <td>...</td>\n",
       "      <td>...</td>\n",
       "      <td>...</td>\n",
       "      <td>...</td>\n",
       "      <td>...</td>\n",
       "      <td>...</td>\n",
       "      <td>...</td>\n",
       "      <td>...</td>\n",
       "      <td>...</td>\n",
       "      <td>...</td>\n",
       "      <td>...</td>\n",
       "    </tr>\n",
       "    <tr>\n",
       "      <th>3149</th>\n",
       "      <td>2023-11-12</td>\n",
       "      <td>NaN</td>\n",
       "      <td>NaN</td>\n",
       "      <td>NaN</td>\n",
       "      <td>NaN</td>\n",
       "      <td>NaN</td>\n",
       "      <td>NaN</td>\n",
       "      <td>NaN</td>\n",
       "      <td>NaN</td>\n",
       "      <td>NaN</td>\n",
       "      <td>NaN</td>\n",
       "      <td>NaN</td>\n",
       "      <td>NaN</td>\n",
       "      <td>NaN</td>\n",
       "      <td>NaN</td>\n",
       "      <td>NaN</td>\n",
       "    </tr>\n",
       "    <tr>\n",
       "      <th>3150</th>\n",
       "      <td>2023-11-13</td>\n",
       "      <td>167.85</td>\n",
       "      <td>2577.2</td>\n",
       "      <td>39.465</td>\n",
       "      <td>4.2740</td>\n",
       "      <td>17410.0</td>\n",
       "      <td>7277.5</td>\n",
       "      <td>6061.0</td>\n",
       "      <td>278.65</td>\n",
       "      <td>1623.6</td>\n",
       "      <td>11256.0</td>\n",
       "      <td>598.30</td>\n",
       "      <td>283.97</td>\n",
       "      <td>32.305</td>\n",
       "      <td>616.3</td>\n",
       "      <td>1378.80</td>\n",
       "    </tr>\n",
       "    <tr>\n",
       "      <th>3151</th>\n",
       "      <td>2023-11-14</td>\n",
       "      <td>165.86</td>\n",
       "      <td>2600.0</td>\n",
       "      <td>39.280</td>\n",
       "      <td>4.2425</td>\n",
       "      <td>17178.0</td>\n",
       "      <td>7200.0</td>\n",
       "      <td>5940.0</td>\n",
       "      <td>273.00</td>\n",
       "      <td>1594.0</td>\n",
       "      <td>11308.5</td>\n",
       "      <td>591.30</td>\n",
       "      <td>280.87</td>\n",
       "      <td>31.580</td>\n",
       "      <td>610.7</td>\n",
       "      <td>1356.80</td>\n",
       "    </tr>\n",
       "    <tr>\n",
       "      <th>3152</th>\n",
       "      <td>2023-11-15</td>\n",
       "      <td>166.46</td>\n",
       "      <td>2620.0</td>\n",
       "      <td>39.275</td>\n",
       "      <td>4.2350</td>\n",
       "      <td>17136.0</td>\n",
       "      <td>7224.0</td>\n",
       "      <td>5935.0</td>\n",
       "      <td>277.05</td>\n",
       "      <td>1566.8</td>\n",
       "      <td>11263.0</td>\n",
       "      <td>585.00</td>\n",
       "      <td>282.89</td>\n",
       "      <td>32.060</td>\n",
       "      <td>611.8</td>\n",
       "      <td>1360.00</td>\n",
       "    </tr>\n",
       "    <tr>\n",
       "      <th>3153</th>\n",
       "      <td>2023-11-16</td>\n",
       "      <td>165.48</td>\n",
       "      <td>2569.0</td>\n",
       "      <td>39.035</td>\n",
       "      <td>4.2140</td>\n",
       "      <td>17008.0</td>\n",
       "      <td>7135.5</td>\n",
       "      <td>5823.0</td>\n",
       "      <td>271.05</td>\n",
       "      <td>1538.2</td>\n",
       "      <td>11207.0</td>\n",
       "      <td>572.75</td>\n",
       "      <td>279.70</td>\n",
       "      <td>31.175</td>\n",
       "      <td>602.1</td>\n",
       "      <td>1350.80</td>\n",
       "    </tr>\n",
       "  </tbody>\n",
       "</table>\n",
       "<p>3154 rows × 16 columns</p>\n",
       "</div>"
      ],
      "text/plain": [
       "           Date    GAZP    YNDX    RUAL    IRAO     GMKN    LKOH     MGNT  \\\n",
       "0    2015-03-30  137.00   887.0  37.340  1.0450  10530.0  2657.0  11185.0   \n",
       "1    2015-03-31  138.90   893.0  36.790  1.0999  10399.0  2705.0  11350.0   \n",
       "2    2015-04-01  143.00   902.0  35.825  1.1200  10539.0  2755.0  11750.0   \n",
       "3    2015-04-02  143.90   919.0  36.450  1.1034  10090.0  2780.5  11971.0   \n",
       "4    2015-04-03  143.94   940.0  36.720  1.1050  10237.0  2824.8  11799.0   \n",
       "...         ...     ...     ...     ...     ...      ...     ...      ...   \n",
       "3149 2023-11-12     NaN     NaN     NaN     NaN      NaN     NaN      NaN   \n",
       "3150 2023-11-13  167.85  2577.2  39.465  4.2740  17410.0  7277.5   6061.0   \n",
       "3151 2023-11-14  165.86  2600.0  39.280  4.2425  17178.0  7200.0   5940.0   \n",
       "3152 2023-11-15  166.46  2620.0  39.275  4.2350  17136.0  7224.0   5935.0   \n",
       "3153 2023-11-16  165.48  2569.0  39.035  4.2140  17008.0  7135.5   5823.0   \n",
       "\n",
       "        MTSS    NVTK     PLZL    ROSN    SBER    SNGS   TATN     CHMF  \n",
       "0     246.30   432.0   1028.0  247.50   63.01  35.690  278.9   657.00  \n",
       "1     247.00   432.0   1016.5  252.15   62.88  35.100  287.0   658.00  \n",
       "2     250.90   450.3   1028.0  261.35   64.50  35.990  300.1   644.50  \n",
       "3     250.00   467.2   1011.0  262.55   65.92  37.000  301.5   643.00  \n",
       "4     248.60   476.4   1013.0  263.70   65.50  36.690  299.0   641.05  \n",
       "...      ...     ...      ...     ...     ...     ...    ...      ...  \n",
       "3149     NaN     NaN      NaN     NaN     NaN     NaN    NaN      NaN  \n",
       "3150  278.65  1623.6  11256.0  598.30  283.97  32.305  616.3  1378.80  \n",
       "3151  273.00  1594.0  11308.5  591.30  280.87  31.580  610.7  1356.80  \n",
       "3152  277.05  1566.8  11263.0  585.00  282.89  32.060  611.8  1360.00  \n",
       "3153  271.05  1538.2  11207.0  572.75  279.70  31.175  602.1  1350.80  \n",
       "\n",
       "[3154 rows x 16 columns]"
      ]
     },
     "execution_count": 8,
     "metadata": {},
     "output_type": "execute_result"
    }
   ],
   "source": [
    "df"
   ]
  },
  {
   "cell_type": "code",
   "execution_count": 9,
   "id": "6f281421",
   "metadata": {
    "ExecuteTime": {
     "end_time": "2023-11-17T18:42:44.480978Z",
     "start_time": "2023-11-17T18:42:44.475446Z"
    }
   },
   "outputs": [],
   "source": [
    "df = df.dropna()"
   ]
  },
  {
   "cell_type": "code",
   "execution_count": 10,
   "id": "ff1b44dd",
   "metadata": {
    "ExecuteTime": {
     "end_time": "2023-11-17T18:42:44.698352Z",
     "start_time": "2023-11-17T18:42:44.485669Z"
    }
   },
   "outputs": [
    {
     "data": {
      "text/plain": [
       "[<matplotlib.lines.Line2D at 0x12a7922c0>]"
      ]
     },
     "execution_count": 10,
     "metadata": {},
     "output_type": "execute_result"
    },
    {
     "data": {
      "image/png": "[encoded data removed]",
      "text/plain": [
       "<Figure size 640x480 with 1 Axes>"
      ]
     },
     "metadata": {},
     "output_type": "display_data"
    }
   ],
   "source": [
    "plt.plot(list(df['GAZP']))"
   ]
  },
  {
   "cell_type": "code",
   "execution_count": 11,
   "id": "cf9420ee",
   "metadata": {
    "ExecuteTime": {
     "end_time": "2023-11-17T18:42:44.739402Z",
     "start_time": "2023-11-17T18:42:44.701112Z"
    }
   },
   "outputs": [],
   "source": [
    "df.to_csv(\"fin_quotes.csv\", index=False)"
   ]
  },
  {
   "cell_type": "code",
   "execution_count": null,
   "id": "c0278cbe",
   "metadata": {},
   "outputs": [],
   "source": []
  }
 ],
 "metadata": {
  "kernelspec": {
   "display_name": "Python 3 (ipykernel)",
   "language": "python",
   "name": "python3"
  },
  "language_info": {
   "codemirror_mode": {
    "name": "ipython",
    "version": 3
   },
   "file_extension": ".py",
   "mimetype": "text/x-python",
   "name": "python",
   "nbconvert_exporter": "python",
   "pygments_lexer": "ipython3",
   "version": "3.10.12"
  },
  "toc": {
   "base_numbering": 1,
   "nav_menu": {},
   "number_sections": true,
   "sideBar": true,
   "skip_h1_title": true,
   "title_cell": "Оглавление",
   "title_sidebar": "Оглавление",
   "toc_cell": true,
   "toc_position": {},
   "toc_section_display": true,
   "toc_window_display": false
  }
 },
 "nbformat": 4,
 "nbformat_minor": 5
}
