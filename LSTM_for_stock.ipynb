{
  "nbformat": 4,
  "nbformat_minor": 0,
  "metadata": {
    "colab": {
      "provenance": [],
      "gpuType": "T4"
    },
    "kernelspec": {
      "name": "python3",
      "display_name": "Python 3"
    },
    "language_info": {
      "name": "python"
    },
    "accelerator": "GPU"
  },
  "cells": [
    {
      "cell_type": "code",
      "source": [
        "import pandas as pd\n",
        "import matplotlib.pyplot as plt\n",
        "import torch\n",
        "from torch.utils.data import Dataset, DataLoader\n",
        "from sklearn.model_selection import train_test_split\n",
        "from torch import nn"
      ],
      "metadata": {
        "id": "4VDv3Ex3EnKs"
      },
      "execution_count": 1,
      "outputs": []
    },
    {
      "cell_type": "code",
      "execution_count": 2,
      "metadata": {
        "id": "zMVN185lDPY2",
        "colab": {
          "base_uri": "https://localhost:8080/"
        },
        "outputId": "d0bc504e-af77-41ed-f2cc-c28ba98c2151"
      },
      "outputs": [
        {
          "output_type": "stream",
          "name": "stdout",
          "text": [
            "Mounted at /content/gdrive/\n"
          ]
        }
      ],
      "source": [
        "from google.colab import drive\n",
        "drive.mount('/content/gdrive/')"
      ]
    },
    {
      "cell_type": "code",
      "source": [
        "data = pd.read_csv(\"/content/gdrive/MyDrive/fin_quotes_per_day.csv\")\n",
        "data"
      ],
      "metadata": {
        "colab": {
          "base_uri": "https://localhost:8080/",
          "height": 423
        },
        "id": "Hkkr2I5kEc-W",
        "outputId": "e3583802-102f-4efb-91f2-ed1000cbb219"
      },
      "execution_count": 3,
      "outputs": [
        {
          "output_type": "execute_result",
          "data": {
            "text/plain": [
              "            Date    GAZP    YNDX    RUAL    IRAO     GMKN    LKOH     MGNT  \\\n",
              "0     2015-03-30  137.00   887.0  37.340  1.0450  10530.0  2657.0  11185.0   \n",
              "1     2015-03-31  138.90   893.0  36.790  1.0999  10399.0  2705.0  11350.0   \n",
              "2     2015-04-01  143.00   902.0  35.825  1.1200  10539.0  2755.0  11750.0   \n",
              "3     2015-04-02  143.90   919.0  36.450  1.1034  10090.0  2780.5  11971.0   \n",
              "4     2015-04-03  143.94   940.0  36.720  1.1050  10237.0  2824.8  11799.0   \n",
              "...          ...     ...     ...     ...     ...      ...     ...      ...   \n",
              "2165  2023-11-28  164.21  2602.6  37.850  4.2080  17056.0  7238.0   6347.5   \n",
              "2166  2023-11-29  163.17  2574.0  37.285  4.1510  16922.0  7202.0   6377.5   \n",
              "2167  2023-11-30  163.23  2523.4  36.650  4.1470  16736.0  7239.0   6354.0   \n",
              "2168  2023-12-01  162.61  2420.6  36.755  4.0825  16646.0  7175.5   6405.5   \n",
              "2169  2023-12-04  160.01  2397.8  35.805  4.0210  16668.0  7132.5   6265.0   \n",
              "\n",
              "        MTSS    NVTK     PLZL    ROSN    SBER    SNGS   TATN     CHMF  \n",
              "0     246.30   432.0   1028.0  247.50   63.01  35.690  278.9   657.00  \n",
              "1     247.00   432.0   1016.5  252.15   62.88  35.100  287.0   658.00  \n",
              "2     250.90   450.3   1028.0  261.35   64.50  35.990  300.1   644.50  \n",
              "3     250.00   467.2   1011.0  262.55   65.92  37.000  301.5   643.00  \n",
              "4     248.60   476.4   1013.0  263.70   65.50  36.690  299.0   641.05  \n",
              "...      ...     ...      ...     ...     ...     ...    ...      ...  \n",
              "2165  261.25  1509.2  11195.0  589.90  279.91  32.000  641.2  1304.20  \n",
              "2166  256.50  1493.6  11079.5  593.45  276.80  31.810  638.7  1297.20  \n",
              "2167  254.45  1510.0  10798.0  584.30  277.50  31.570  638.8  1268.20  \n",
              "2168  250.15  1500.0  10971.5  575.15  273.97  30.855  632.5  1257.00  \n",
              "2169  248.75  1505.4  10710.0  565.00  270.96  29.910  623.7  1274.00  \n",
              "\n",
              "[2170 rows x 16 columns]"
            ],
            "text/html": [
              "\n",
              "  <div id=\"df-ecf35430-97c5-41a3-bb92-7b27ed59adb7\" class=\"colab-df-container\">\n",
              "    <div>\n",
              "<style scoped>\n",
              "    .dataframe tbody tr th:only-of-type {\n",
              "        vertical-align: middle;\n",
              "    }\n",
              "\n",
              "    .dataframe tbody tr th {\n",
              "        vertical-align: top;\n",
              "    }\n",
              "\n",
              "    .dataframe thead th {\n",
              "        text-align: right;\n",
              "    }\n",
              "</style>\n",
              "<table border=\"1\" class=\"dataframe\">\n",
              "  <thead>\n",
              "    <tr style=\"text-align: right;\">\n",
              "      <th></th>\n",
              "      <th>Date</th>\n",
              "      <th>GAZP</th>\n",
              "      <th>YNDX</th>\n",
              "      <th>RUAL</th>\n",
              "      <th>IRAO</th>\n",
              "      <th>GMKN</th>\n",
              "      <th>LKOH</th>\n",
              "      <th>MGNT</th>\n",
              "      <th>MTSS</th>\n",
              "      <th>NVTK</th>\n",
              "      <th>PLZL</th>\n",
              "      <th>ROSN</th>\n",
              "      <th>SBER</th>\n",
              "      <th>SNGS</th>\n",
              "      <th>TATN</th>\n",
              "      <th>CHMF</th>\n",
              "    </tr>\n",
              "  </thead>\n",
              "  <tbody>\n",
              "    <tr>\n",
              "      <th>0</th>\n",
              "      <td>2015-03-30</td>\n",
              "      <td>137.00</td>\n",
              "      <td>887.0</td>\n",
              "      <td>37.340</td>\n",
              "      <td>1.0450</td>\n",
              "      <td>10530.0</td>\n",
              "      <td>2657.0</td>\n",
              "      <td>11185.0</td>\n",
              "      <td>246.30</td>\n",
              "      <td>432.0</td>\n",
              "      <td>1028.0</td>\n",
              "      <td>247.50</td>\n",
              "      <td>63.01</td>\n",
              "      <td>35.690</td>\n",
              "      <td>278.9</td>\n",
              "      <td>657.00</td>\n",
              "    </tr>\n",
              "    <tr>\n",
              "      <th>1</th>\n",
              "      <td>2015-03-31</td>\n",
              "      <td>138.90</td>\n",
              "      <td>893.0</td>\n",
              "      <td>36.790</td>\n",
              "      <td>1.0999</td>\n",
              "      <td>10399.0</td>\n",
              "      <td>2705.0</td>\n",
              "      <td>11350.0</td>\n",
              "      <td>247.00</td>\n",
              "      <td>432.0</td>\n",
              "      <td>1016.5</td>\n",
              "      <td>252.15</td>\n",
              "      <td>62.88</td>\n",
              "      <td>35.100</td>\n",
              "      <td>287.0</td>\n",
              "      <td>658.00</td>\n",
              "    </tr>\n",
              "    <tr>\n",
              "      <th>2</th>\n",
              "      <td>2015-04-01</td>\n",
              "      <td>143.00</td>\n",
              "      <td>902.0</td>\n",
              "      <td>35.825</td>\n",
              "      <td>1.1200</td>\n",
              "      <td>10539.0</td>\n",
              "      <td>2755.0</td>\n",
              "      <td>11750.0</td>\n",
              "      <td>250.90</td>\n",
              "      <td>450.3</td>\n",
              "      <td>1028.0</td>\n",
              "      <td>261.35</td>\n",
              "      <td>64.50</td>\n",
              "      <td>35.990</td>\n",
              "      <td>300.1</td>\n",
              "      <td>644.50</td>\n",
              "    </tr>\n",
              "    <tr>\n",
              "      <th>3</th>\n",
              "      <td>2015-04-02</td>\n",
              "      <td>143.90</td>\n",
              "      <td>919.0</td>\n",
              "      <td>36.450</td>\n",
              "      <td>1.1034</td>\n",
              "      <td>10090.0</td>\n",
              "      <td>2780.5</td>\n",
              "      <td>11971.0</td>\n",
              "      <td>250.00</td>\n",
              "      <td>467.2</td>\n",
              "      <td>1011.0</td>\n",
              "      <td>262.55</td>\n",
              "      <td>65.92</td>\n",
              "      <td>37.000</td>\n",
              "      <td>301.5</td>\n",
              "      <td>643.00</td>\n",
              "    </tr>\n",
              "    <tr>\n",
              "      <th>4</th>\n",
              "      <td>2015-04-03</td>\n",
              "      <td>143.94</td>\n",
              "      <td>940.0</td>\n",
              "      <td>36.720</td>\n",
              "      <td>1.1050</td>\n",
              "      <td>10237.0</td>\n",
              "      <td>2824.8</td>\n",
              "      <td>11799.0</td>\n",
              "      <td>248.60</td>\n",
              "      <td>476.4</td>\n",
              "      <td>1013.0</td>\n",
              "      <td>263.70</td>\n",
              "      <td>65.50</td>\n",
              "      <td>36.690</td>\n",
              "      <td>299.0</td>\n",
              "      <td>641.05</td>\n",
              "    </tr>\n",
              "    <tr>\n",
              "      <th>...</th>\n",
              "      <td>...</td>\n",
              "      <td>...</td>\n",
              "      <td>...</td>\n",
              "      <td>...</td>\n",
              "      <td>...</td>\n",
              "      <td>...</td>\n",
              "      <td>...</td>\n",
              "      <td>...</td>\n",
              "      <td>...</td>\n",
              "      <td>...</td>\n",
              "      <td>...</td>\n",
              "      <td>...</td>\n",
              "      <td>...</td>\n",
              "      <td>...</td>\n",
              "      <td>...</td>\n",
              "      <td>...</td>\n",
              "    </tr>\n",
              "    <tr>\n",
              "      <th>2165</th>\n",
              "      <td>2023-11-28</td>\n",
              "      <td>164.21</td>\n",
              "      <td>2602.6</td>\n",
              "      <td>37.850</td>\n",
              "      <td>4.2080</td>\n",
              "      <td>17056.0</td>\n",
              "      <td>7238.0</td>\n",
              "      <td>6347.5</td>\n",
              "      <td>261.25</td>\n",
              "      <td>1509.2</td>\n",
              "      <td>11195.0</td>\n",
              "      <td>589.90</td>\n",
              "      <td>279.91</td>\n",
              "      <td>32.000</td>\n",
              "      <td>641.2</td>\n",
              "      <td>1304.20</td>\n",
              "    </tr>\n",
              "    <tr>\n",
              "      <th>2166</th>\n",
              "      <td>2023-11-29</td>\n",
              "      <td>163.17</td>\n",
              "      <td>2574.0</td>\n",
              "      <td>37.285</td>\n",
              "      <td>4.1510</td>\n",
              "      <td>16922.0</td>\n",
              "      <td>7202.0</td>\n",
              "      <td>6377.5</td>\n",
              "      <td>256.50</td>\n",
              "      <td>1493.6</td>\n",
              "      <td>11079.5</td>\n",
              "      <td>593.45</td>\n",
              "      <td>276.80</td>\n",
              "      <td>31.810</td>\n",
              "      <td>638.7</td>\n",
              "      <td>1297.20</td>\n",
              "    </tr>\n",
              "    <tr>\n",
              "      <th>2167</th>\n",
              "      <td>2023-11-30</td>\n",
              "      <td>163.23</td>\n",
              "      <td>2523.4</td>\n",
              "      <td>36.650</td>\n",
              "      <td>4.1470</td>\n",
              "      <td>16736.0</td>\n",
              "      <td>7239.0</td>\n",
              "      <td>6354.0</td>\n",
              "      <td>254.45</td>\n",
              "      <td>1510.0</td>\n",
              "      <td>10798.0</td>\n",
              "      <td>584.30</td>\n",
              "      <td>277.50</td>\n",
              "      <td>31.570</td>\n",
              "      <td>638.8</td>\n",
              "      <td>1268.20</td>\n",
              "    </tr>\n",
              "    <tr>\n",
              "      <th>2168</th>\n",
              "      <td>2023-12-01</td>\n",
              "      <td>162.61</td>\n",
              "      <td>2420.6</td>\n",
              "      <td>36.755</td>\n",
              "      <td>4.0825</td>\n",
              "      <td>16646.0</td>\n",
              "      <td>7175.5</td>\n",
              "      <td>6405.5</td>\n",
              "      <td>250.15</td>\n",
              "      <td>1500.0</td>\n",
              "      <td>10971.5</td>\n",
              "      <td>575.15</td>\n",
              "      <td>273.97</td>\n",
              "      <td>30.855</td>\n",
              "      <td>632.5</td>\n",
              "      <td>1257.00</td>\n",
              "    </tr>\n",
              "    <tr>\n",
              "      <th>2169</th>\n",
              "      <td>2023-12-04</td>\n",
              "      <td>160.01</td>\n",
              "      <td>2397.8</td>\n",
              "      <td>35.805</td>\n",
              "      <td>4.0210</td>\n",
              "      <td>16668.0</td>\n",
              "      <td>7132.5</td>\n",
              "      <td>6265.0</td>\n",
              "      <td>248.75</td>\n",
              "      <td>1505.4</td>\n",
              "      <td>10710.0</td>\n",
              "      <td>565.00</td>\n",
              "      <td>270.96</td>\n",
              "      <td>29.910</td>\n",
              "      <td>623.7</td>\n",
              "      <td>1274.00</td>\n",
              "    </tr>\n",
              "  </tbody>\n",
              "</table>\n",
              "<p>2170 rows × 16 columns</p>\n",
              "</div>\n",
              "    <div class=\"colab-df-buttons\">\n",
              "\n",
              "  <div class=\"colab-df-container\">\n",
              "    <button class=\"colab-df-convert\" onclick=\"convertToInteractive('df-ecf35430-97c5-41a3-bb92-7b27ed59adb7')\"\n",
              "            title=\"Convert this dataframe to an interactive table.\"\n",
              "            style=\"display:none;\">\n",
              "\n",
              "  <svg xmlns=\"http://www.w3.org/2000/svg\" height=\"24px\" viewBox=\"0 -960 960 960\">\n",
              "    <path d=\"M120-120v-720h720v720H120Zm60-500h600v-160H180v160Zm220 220h160v-160H400v160Zm0 220h160v-160H400v160ZM180-400h160v-160H180v160Zm440 0h160v-160H620v160ZM180-180h160v-160H180v160Zm440 0h160v-160H620v160Z\"/>\n",
              "  </svg>\n",
              "    </button>\n",
              "\n",
              "  <style>\n",
              "    .colab-df-container {\n",
              "      display:flex;\n",
              "      gap: 12px;\n",
              "    }\n",
              "\n",
              "    .colab-df-convert {\n",
              "      background-color: #E8F0FE;\n",
              "      border: none;\n",
              "      border-radius: 50%;\n",
              "      cursor: pointer;\n",
              "      display: none;\n",
              "      fill: #1967D2;\n",
              "      height: 32px;\n",
              "      padding: 0 0 0 0;\n",
              "      width: 32px;\n",
              "    }\n",
              "\n",
              "    .colab-df-convert:hover {\n",
              "      background-color: #E2EBFA;\n",
              "      box-shadow: 0px 1px 2px rgba(60, 64, 67, 0.3), 0px 1px 3px 1px rgba(60, 64, 67, 0.15);\n",
              "      fill: #174EA6;\n",
              "    }\n",
              "\n",
              "    .colab-df-buttons div {\n",
              "      margin-bottom: 4px;\n",
              "    }\n",
              "\n",
              "    [theme=dark] .colab-df-convert {\n",
              "      background-color: #3B4455;\n",
              "      fill: #D2E3FC;\n",
              "    }\n",
              "\n",
              "    [theme=dark] .colab-df-convert:hover {\n",
              "      background-color: #434B5C;\n",
              "      box-shadow: 0px 1px 3px 1px rgba(0, 0, 0, 0.15);\n",
              "      filter: drop-shadow(0px 1px 2px rgba(0, 0, 0, 0.3));\n",
              "      fill: #FFFFFF;\n",
              "    }\n",
              "  </style>\n",
              "\n",
              "    <script>\n",
              "      const buttonEl =\n",
              "        document.querySelector('#df-ecf35430-97c5-41a3-bb92-7b27ed59adb7 button.colab-df-convert');\n",
              "      buttonEl.style.display =\n",
              "        google.colab.kernel.accessAllowed ? 'block' : 'none';\n",
              "\n",
              "      async function convertToInteractive(key) {\n",
              "        const element = document.querySelector('#df-ecf35430-97c5-41a3-bb92-7b27ed59adb7');\n",
              "        const dataTable =\n",
              "          await google.colab.kernel.invokeFunction('convertToInteractive',\n",
              "                                                    [key], {});\n",
              "        if (!dataTable) return;\n",
              "\n",
              "        const docLinkHtml = 'Like what you see? Visit the ' +\n",
              "          '<a target=\"_blank\" href=https://colab.research.google.com/notebooks/data_table.ipynb>data table notebook</a>'\n",
              "          + ' to learn more about interactive tables.';\n",
              "        element.innerHTML = '';\n",
              "        dataTable['output_type'] = 'display_data';\n",
              "        await google.colab.output.renderOutput(dataTable, element);\n",
              "        const docLink = document.createElement('div');\n",
              "        docLink.innerHTML = docLinkHtml;\n",
              "        element.appendChild(docLink);\n",
              "      }\n",
              "    </script>\n",
              "  </div>\n",
              "\n",
              "\n",
              "<div id=\"df-e2fb9e1e-7d8b-4f7c-a679-0066065abb54\">\n",
              "  <button class=\"colab-df-quickchart\" onclick=\"quickchart('df-e2fb9e1e-7d8b-4f7c-a679-0066065abb54')\"\n",
              "            title=\"Suggest charts\"\n",
              "            style=\"display:none;\">\n",
              "\n",
              "<svg xmlns=\"http://www.w3.org/2000/svg\" height=\"24px\"viewBox=\"0 0 24 24\"\n",
              "     width=\"24px\">\n",
              "    <g>\n",
              "        <path d=\"M19 3H5c-1.1 0-2 .9-2 2v14c0 1.1.9 2 2 2h14c1.1 0 2-.9 2-2V5c0-1.1-.9-2-2-2zM9 17H7v-7h2v7zm4 0h-2V7h2v10zm4 0h-2v-4h2v4z\"/>\n",
              "    </g>\n",
              "</svg>\n",
              "  </button>\n",
              "\n",
              "<style>\n",
              "  .colab-df-quickchart {\n",
              "      --bg-color: #E8F0FE;\n",
              "      --fill-color: #1967D2;\n",
              "      --hover-bg-color: #E2EBFA;\n",
              "      --hover-fill-color: #174EA6;\n",
              "      --disabled-fill-color: #AAA;\n",
              "      --disabled-bg-color: #DDD;\n",
              "  }\n",
              "\n",
              "  [theme=dark] .colab-df-quickchart {\n",
              "      --bg-color: #3B4455;\n",
              "      --fill-color: #D2E3FC;\n",
              "      --hover-bg-color: #434B5C;\n",
              "      --hover-fill-color: #FFFFFF;\n",
              "      --disabled-bg-color: #3B4455;\n",
              "      --disabled-fill-color: #666;\n",
              "  }\n",
              "\n",
              "  .colab-df-quickchart {\n",
              "    background-color: var(--bg-color);\n",
              "    border: none;\n",
              "    border-radius: 50%;\n",
              "    cursor: pointer;\n",
              "    display: none;\n",
              "    fill: var(--fill-color);\n",
              "    height: 32px;\n",
              "    padding: 0;\n",
              "    width: 32px;\n",
              "  }\n",
              "\n",
              "  .colab-df-quickchart:hover {\n",
              "    background-color: var(--hover-bg-color);\n",
              "    box-shadow: 0 1px 2px rgba(60, 64, 67, 0.3), 0 1px 3px 1px rgba(60, 64, 67, 0.15);\n",
              "    fill: var(--button-hover-fill-color);\n",
              "  }\n",
              "\n",
              "  .colab-df-quickchart-complete:disabled,\n",
              "  .colab-df-quickchart-complete:disabled:hover {\n",
              "    background-color: var(--disabled-bg-color);\n",
              "    fill: var(--disabled-fill-color);\n",
              "    box-shadow: none;\n",
              "  }\n",
              "\n",
              "  .colab-df-spinner {\n",
              "    border: 2px solid var(--fill-color);\n",
              "    border-color: transparent;\n",
              "    border-bottom-color: var(--fill-color);\n",
              "    animation:\n",
              "      spin 1s steps(1) infinite;\n",
              "  }\n",
              "\n",
              "  @keyframes spin {\n",
              "    0% {\n",
              "      border-color: transparent;\n",
              "      border-bottom-color: var(--fill-color);\n",
              "      border-left-color: var(--fill-color);\n",
              "    }\n",
              "    20% {\n",
              "      border-color: transparent;\n",
              "      border-left-color: var(--fill-color);\n",
              "      border-top-color: var(--fill-color);\n",
              "    }\n",
              "    30% {\n",
              "      border-color: transparent;\n",
              "      border-left-color: var(--fill-color);\n",
              "      border-top-color: var(--fill-color);\n",
              "      border-right-color: var(--fill-color);\n",
              "    }\n",
              "    40% {\n",
              "      border-color: transparent;\n",
              "      border-right-color: var(--fill-color);\n",
              "      border-top-color: var(--fill-color);\n",
              "    }\n",
              "    60% {\n",
              "      border-color: transparent;\n",
              "      border-right-color: var(--fill-color);\n",
              "    }\n",
              "    80% {\n",
              "      border-color: transparent;\n",
              "      border-right-color: var(--fill-color);\n",
              "      border-bottom-color: var(--fill-color);\n",
              "    }\n",
              "    90% {\n",
              "      border-color: transparent;\n",
              "      border-bottom-color: var(--fill-color);\n",
              "    }\n",
              "  }\n",
              "</style>\n",
              "\n",
              "  <script>\n",
              "    async function quickchart(key) {\n",
              "      const quickchartButtonEl =\n",
              "        document.querySelector('#' + key + ' button');\n",
              "      quickchartButtonEl.disabled = true;  // To prevent multiple clicks.\n",
              "      quickchartButtonEl.classList.add('colab-df-spinner');\n",
              "      try {\n",
              "        const charts = await google.colab.kernel.invokeFunction(\n",
              "            'suggestCharts', [key], {});\n",
              "      } catch (error) {\n",
              "        console.error('Error during call to suggestCharts:', error);\n",
              "      }\n",
              "      quickchartButtonEl.classList.remove('colab-df-spinner');\n",
              "      quickchartButtonEl.classList.add('colab-df-quickchart-complete');\n",
              "    }\n",
              "    (() => {\n",
              "      let quickchartButtonEl =\n",
              "        document.querySelector('#df-e2fb9e1e-7d8b-4f7c-a679-0066065abb54 button');\n",
              "      quickchartButtonEl.style.display =\n",
              "        google.colab.kernel.accessAllowed ? 'block' : 'none';\n",
              "    })();\n",
              "  </script>\n",
              "</div>\n",
              "    </div>\n",
              "  </div>\n"
            ]
          },
          "metadata": {},
          "execution_count": 3
        }
      ]
    },
    {
      "cell_type": "code",
      "source": [
        "data.info()"
      ],
      "metadata": {
        "colab": {
          "base_uri": "https://localhost:8080/"
        },
        "id": "H5iRW9TYTTd_",
        "outputId": "566a34ff-5607-4b6f-9cfc-182247cfb580"
      },
      "execution_count": 4,
      "outputs": [
        {
          "output_type": "stream",
          "name": "stdout",
          "text": [
            "<class 'pandas.core.frame.DataFrame'>\n",
            "RangeIndex: 2170 entries, 0 to 2169\n",
            "Data columns (total 16 columns):\n",
            " #   Column  Non-Null Count  Dtype  \n",
            "---  ------  --------------  -----  \n",
            " 0   Date    2170 non-null   object \n",
            " 1   GAZP    2170 non-null   float64\n",
            " 2   YNDX    2170 non-null   float64\n",
            " 3   RUAL    2170 non-null   float64\n",
            " 4   IRAO    2170 non-null   float64\n",
            " 5   GMKN    2170 non-null   float64\n",
            " 6   LKOH    2170 non-null   float64\n",
            " 7   MGNT    2170 non-null   float64\n",
            " 8   MTSS    2170 non-null   float64\n",
            " 9   NVTK    2170 non-null   float64\n",
            " 10  PLZL    2170 non-null   float64\n",
            " 11  ROSN    2170 non-null   float64\n",
            " 12  SBER    2170 non-null   float64\n",
            " 13  SNGS    2170 non-null   float64\n",
            " 14  TATN    2170 non-null   float64\n",
            " 15  CHMF    2170 non-null   float64\n",
            "dtypes: float64(15), object(1)\n",
            "memory usage: 271.4+ KB\n"
          ]
        }
      ]
    },
    {
      "cell_type": "code",
      "source": [
        "data = data.drop(['Date'], axis=1)"
      ],
      "metadata": {
        "id": "m-4x9n_MNnl_"
      },
      "execution_count": 5,
      "outputs": []
    },
    {
      "cell_type": "code",
      "source": [
        "train, test = train_test_split(data, test_size=0.25, shuffle=False)\n",
        "train.shape"
      ],
      "metadata": {
        "colab": {
          "base_uri": "https://localhost:8080/"
        },
        "id": "IjfLsFkiRa3X",
        "outputId": "8939ff1d-b27e-45fb-fc05-1674bb748a13"
      },
      "execution_count": 6,
      "outputs": [
        {
          "output_type": "execute_result",
          "data": {
            "text/plain": [
              "(1627, 15)"
            ]
          },
          "metadata": {},
          "execution_count": 6
        }
      ]
    },
    {
      "cell_type": "code",
      "source": [
        "class QuotesDataset(Dataset):\n",
        "    def __init__(self, data):\n",
        "        self.data = data.to_numpy(dtype=\"float32\")\n",
        "\n",
        "    def __len__(self):\n",
        "        return len(self.data)\n",
        "\n",
        "    def __getitem__(self, idx):\n",
        "        return self.data[idx]\n"
      ],
      "metadata": {
        "id": "d6weFUW5EyA6"
      },
      "execution_count": 7,
      "outputs": []
    },
    {
      "cell_type": "code",
      "source": [
        "training_data = QuotesDataset(train)\n",
        "test_data = QuotesDataset(test)"
      ],
      "metadata": {
        "id": "L0RUPOukOPBm"
      },
      "execution_count": 8,
      "outputs": []
    },
    {
      "cell_type": "code",
      "source": [
        "train_dataloader = DataLoader(training_data, batch_size=21, shuffle=False)\n",
        "test_dataloader = DataLoader(test_data, batch_size=21, shuffle=False)"
      ],
      "metadata": {
        "id": "2MnyYhrFNCWM"
      },
      "execution_count": 9,
      "outputs": []
    },
    {
      "cell_type": "code",
      "source": [
        "next(iter(train_dataloader))"
      ],
      "metadata": {
        "colab": {
          "base_uri": "https://localhost:8080/"
        },
        "id": "f9i4HstNTtTE",
        "outputId": "8d22717d-5c19-4cfa-9d7c-370e6af72ca3"
      },
      "execution_count": 10,
      "outputs": [
        {
          "output_type": "execute_result",
          "data": {
            "text/plain": [
              "tensor([[1.3700e+02, 8.8700e+02, 3.7340e+01, 1.0450e+00, 1.0530e+04, 2.6570e+03,\n",
              "         1.1185e+04, 2.4630e+02, 4.3200e+02, 1.0280e+03, 2.4750e+02, 6.3010e+01,\n",
              "         3.5690e+01, 2.7890e+02, 6.5700e+02],\n",
              "        [1.3890e+02, 8.9300e+02, 3.6790e+01, 1.0999e+00, 1.0399e+04, 2.7050e+03,\n",
              "         1.1350e+04, 2.4700e+02, 4.3200e+02, 1.0165e+03, 2.5215e+02, 6.2880e+01,\n",
              "         3.5100e+01, 2.8700e+02, 6.5800e+02],\n",
              "        [1.4300e+02, 9.0200e+02, 3.5825e+01, 1.1200e+00, 1.0539e+04, 2.7550e+03,\n",
              "         1.1750e+04, 2.5090e+02, 4.5030e+02, 1.0280e+03, 2.6135e+02, 6.4500e+01,\n",
              "         3.5990e+01, 3.0010e+02, 6.4450e+02],\n",
              "        [1.4390e+02, 9.1900e+02, 3.6450e+01, 1.1034e+00, 1.0090e+04, 2.7805e+03,\n",
              "         1.1971e+04, 2.5000e+02, 4.6720e+02, 1.0110e+03, 2.6255e+02, 6.5920e+01,\n",
              "         3.7000e+01, 3.0150e+02, 6.4300e+02],\n",
              "        [1.4394e+02, 9.4000e+02, 3.6720e+01, 1.1050e+00, 1.0237e+04, 2.8248e+03,\n",
              "         1.1799e+04, 2.4860e+02, 4.7640e+02, 1.0130e+03, 2.6370e+02, 6.5500e+01,\n",
              "         3.6690e+01, 2.9900e+02, 6.4105e+02],\n",
              "        [1.4570e+02, 9.3400e+02, 3.6800e+01, 1.1747e+00, 1.0200e+04, 2.8233e+03,\n",
              "         1.1900e+04, 2.5390e+02, 4.7800e+02, 1.0165e+03, 2.6615e+02, 6.8990e+01,\n",
              "         3.7330e+01, 3.0745e+02, 6.3820e+02],\n",
              "        [1.4620e+02, 9.4200e+02, 3.6660e+01, 1.1759e+00, 1.0125e+04, 2.7900e+03,\n",
              "         1.2020e+04, 2.5500e+02, 4.7440e+02, 1.0275e+03, 2.6410e+02, 6.9600e+01,\n",
              "         3.7390e+01, 3.0550e+02, 6.3690e+02],\n",
              "        [1.4727e+02, 9.4600e+02, 3.7490e+01, 1.1749e+00, 9.9860e+03, 2.7550e+03,\n",
              "         1.1890e+04, 2.5300e+02, 4.7060e+02, 1.0220e+03, 2.6370e+02, 6.9400e+01,\n",
              "         3.6700e+01, 3.0300e+02, 6.2000e+02],\n",
              "        [1.4810e+02, 9.3900e+02, 3.6550e+01, 1.1450e+00, 9.7400e+03, 2.7078e+03,\n",
              "         1.1744e+04, 2.5200e+02, 4.6550e+02, 1.0250e+03, 2.5855e+02, 7.2000e+01,\n",
              "         3.6835e+01, 2.9795e+02, 6.1260e+02],\n",
              "        [1.4800e+02, 9.4000e+02, 3.5380e+01, 1.1120e+00, 9.9360e+03, 2.6349e+03,\n",
              "         1.1711e+04, 2.4800e+02, 4.6360e+02, 1.0350e+03, 2.5695e+02, 7.1500e+01,\n",
              "         3.5990e+01, 2.9720e+02, 6.0700e+02],\n",
              "        [1.4880e+02, 9.4100e+02, 3.4790e+01, 1.0794e+00, 9.8390e+03, 2.6170e+03,\n",
              "         1.2300e+04, 2.5310e+02, 4.7720e+02, 1.0595e+03, 2.5550e+02, 7.4100e+01,\n",
              "         3.6800e+01, 3.0300e+02, 6.0450e+02],\n",
              "        [1.4440e+02, 9.1000e+02, 3.4490e+01, 1.0830e+00, 9.5200e+03, 2.5590e+03,\n",
              "         1.1801e+04, 2.5350e+02, 4.6290e+02, 1.0450e+03, 2.4950e+02, 7.4050e+01,\n",
              "         3.6950e+01, 3.0100e+02, 5.9000e+02],\n",
              "        [1.5010e+02, 9.7300e+02, 3.4700e+01, 1.1560e+00, 9.6320e+03, 2.5950e+03,\n",
              "         1.1870e+04, 2.6300e+02, 4.8070e+02, 1.0900e+03, 2.5440e+02, 7.6490e+01,\n",
              "         3.7250e+01, 3.0305e+02, 5.8095e+02],\n",
              "        [1.5240e+02, 1.0280e+03, 3.4600e+01, 1.1450e+00, 9.4800e+03, 2.5800e+03,\n",
              "         1.1600e+04, 2.6370e+02, 4.9300e+02, 1.1205e+03, 2.5925e+02, 7.6500e+01,\n",
              "         3.9000e+01, 3.1300e+02, 5.6655e+02],\n",
              "        [1.4930e+02, 1.0530e+03, 3.4540e+01, 1.1488e+00, 9.4600e+03, 2.5760e+03,\n",
              "         1.1520e+04, 2.5700e+02, 5.0480e+02, 1.1430e+03, 2.5600e+02, 7.2500e+01,\n",
              "         3.7500e+01, 2.9220e+02, 5.6300e+02],\n",
              "        [1.5396e+02, 1.0540e+03, 3.2845e+01, 1.1518e+00, 9.5900e+03, 2.6700e+03,\n",
              "         1.1664e+04, 2.5290e+02, 5.0700e+02, 1.1750e+03, 2.6050e+02, 7.3500e+01,\n",
              "         3.7395e+01, 3.0120e+02, 5.6495e+02],\n",
              "        [1.5535e+02, 1.0910e+03, 3.1980e+01, 1.1480e+00, 9.7000e+03, 2.7282e+03,\n",
              "         1.2207e+04, 2.5515e+02, 5.2330e+02, 1.2200e+03, 2.5970e+02, 7.5240e+01,\n",
              "         3.7205e+01, 3.0450e+02, 5.6900e+02],\n",
              "        [1.5080e+02, 1.0810e+03, 3.1990e+01, 1.1601e+00, 9.6000e+03, 2.6395e+03,\n",
              "         1.2135e+04, 2.5240e+02, 5.0510e+02, 1.3160e+03, 2.5240e+02, 7.3900e+01,\n",
              "         3.6460e+01, 2.9585e+02, 5.7260e+02],\n",
              "        [1.5015e+02, 1.0760e+03, 3.1000e+01, 1.1406e+00, 9.5300e+03, 2.5920e+03,\n",
              "         1.1900e+04, 2.5325e+02, 4.9960e+02, 1.2705e+03, 2.4910e+02, 7.5800e+01,\n",
              "         3.5600e+01, 3.0445e+02, 5.4870e+02],\n",
              "        [1.5389e+02, 1.0520e+03, 3.0200e+01, 1.1477e+00, 9.7190e+03, 2.6450e+03,\n",
              "         1.1824e+04, 2.5515e+02, 4.9890e+02, 1.3245e+03, 2.5820e+02, 7.5750e+01,\n",
              "         3.6800e+01, 2.9700e+02, 5.5000e+02],\n",
              "        [1.5205e+02, 1.0700e+03, 3.0325e+01, 1.1756e+00, 9.6650e+03, 2.6620e+03,\n",
              "         1.1577e+04, 2.5780e+02, 4.9640e+02, 1.4000e+03, 2.5600e+02, 7.5200e+01,\n",
              "         3.6210e+01, 3.0680e+02, 5.6510e+02]])"
            ]
          },
          "metadata": {},
          "execution_count": 10
        }
      ]
    },
    {
      "cell_type": "code",
      "source": [
        "class myLSTM(nn.Module):\n",
        "  def __init__(self, input_size=15, hidden_size=256, num_layers=4):\n",
        "      super(myLSTM, self).__init__()\n",
        "      self.lstm = nn.LSTM(input_size, hidden_size, num_layers)\n",
        "      self.fc = nn.Linear(hidden_size, input_size)\n",
        "\n",
        "  def forward(self, X):\n",
        "      X, _ = self.lstm(X)\n",
        "      return self.fc(X)\n",
        "      # return X"
      ],
      "metadata": {
        "id": "A8LQbzkwOub9"
      },
      "execution_count": 11,
      "outputs": []
    },
    {
      "cell_type": "code",
      "source": [
        "device = torch.device(\"cuda\" if torch.cuda.is_available() else \"cpu\")\n",
        "model = myLSTM().to(device)\n",
        "optimizer = torch.optim.SGD(model.parameters(), lr=5e-2)\n",
        "loss = nn.MSELoss(reduction='mean')"
      ],
      "metadata": {
        "id": "MyVU8WPkQrSZ"
      },
      "execution_count": 12,
      "outputs": []
    },
    {
      "cell_type": "code",
      "source": [
        "history = list()\n",
        "epochs = 1000\n",
        "for epoch in range(epochs):\n",
        "  total_loss = 0\n",
        "  for batch in train_dataloader:\n",
        "    optimizer.zero_grad()\n",
        "    batch = batch.to(device)\n",
        "    out = model(batch)\n",
        "    loss_value = loss(out[:-1,:], batch[1:,:])\n",
        "    loss_value.backward()\n",
        "    optimizer.step()\n",
        "    total_loss += loss_value.item()\n",
        "  history.append(total_loss / len(train_dataloader))\n",
        "  plt.plot(history)"
      ],
      "metadata": {
        "colab": {
          "base_uri": "https://localhost:8080/",
          "height": 430
        },
        "id": "cGRb3FWVRFX6",
        "outputId": "12d29790-385f-4c49-bfc9-53b708f52593"
      },
      "execution_count": 13,
      "outputs": [
        {
          "output_type": "display_data",
          "data": {
            "text/plain": [
              "<Figure size 640x480 with 1 Axes>"
            ],
            "image/png": "[encoded data removed]"
          },
          "metadata": {}
        }
      ]
    },
    {
      "cell_type": "code",
      "source": [
        "history[-1]**0.5"
      ],
      "metadata": {
        "colab": {
          "base_uri": "https://localhost:8080/"
        },
        "id": "3TNe59iDd1qE",
        "outputId": "4bc4a536-43bd-40c2-e0ba-0d8015693b10"
      },
      "execution_count": 14,
      "outputs": [
        {
          "output_type": "execute_result",
          "data": {
            "text/plain": [
              "745.2428744843197"
            ]
          },
          "metadata": {},
          "execution_count": 14
        }
      ]
    },
    {
      "cell_type": "code",
      "source": [
        "batch = next(iter(test_dataloader)).to(device)\n",
        "batch[1]"
      ],
      "metadata": {
        "colab": {
          "base_uri": "https://localhost:8080/"
        },
        "id": "a4kBpwHVUWsw",
        "outputId": "573c2e80-1213-42e1-f2fe-9f426ab38132"
      },
      "execution_count": 15,
      "outputs": [
        {
          "output_type": "execute_result",
          "data": {
            "text/plain": [
              "tensor([3.4334e+02, 5.8920e+03, 7.0995e+01, 4.6810e+00, 2.3978e+04, 6.7245e+03,\n",
              "        5.5015e+03, 3.2965e+02, 1.9248e+03, 1.2630e+04, 5.6810e+02, 3.3351e+02,\n",
              "        3.3300e+01, 5.1000e+02, 1.6308e+03], device='cuda:0')"
            ]
          },
          "metadata": {},
          "execution_count": 15
        }
      ]
    },
    {
      "cell_type": "code",
      "source": [
        "out = model(batch)\n",
        "out[0]"
      ],
      "metadata": {
        "colab": {
          "base_uri": "https://localhost:8080/"
        },
        "id": "5CECClw9abIo",
        "outputId": "ea86d787-d4f2-4693-ae82-0865438e9c5f"
      },
      "execution_count": 16,
      "outputs": [
        {
          "output_type": "execute_result",
          "data": {
            "text/plain": [
              "tensor([2.7788e+02, 4.8272e+03, 5.4405e+01, 4.2971e+00, 2.1312e+04, 5.6425e+03,\n",
              "        5.4246e+03, 3.0333e+02, 1.6143e+03, 1.1581e+04, 4.9078e+02, 2.8808e+02,\n",
              "        3.1658e+01, 4.6584e+02, 1.4524e+03], device='cuda:0',\n",
              "       grad_fn=<SelectBackward0>)"
            ]
          },
          "metadata": {},
          "execution_count": 16
        }
      ]
    },
    {
      "cell_type": "code",
      "source": [],
      "metadata": {
        "id": "rEBxheJPam_M"
      },
      "execution_count": 16,
      "outputs": []
    }
  ]
}