{
 "cells": [
  {
   "cell_type": "markdown",
   "id": "5fdc61d7",
   "metadata": {
    "toc": true
   },
   "source": [
    "<h1>Оглавление<span class=\"tocSkip\"></span></h1>\n",
    "<div class=\"toc\"><ul class=\"toc-item\"></ul></div>"
   ]
  },
  {
   "cell_type": "code",
   "execution_count": 1,
   "id": "ca0eb4dd",
   "metadata": {
    "ExecuteTime": {
     "end_time": "2023-11-23T20:04:28.232712Z",
     "start_time": "2023-11-23T20:04:28.228402Z"
    }
   },
   "outputs": [],
   "source": [
    "#!pip install apimoex"
   ]
  },
  {
   "cell_type": "code",
   "execution_count": 2,
   "id": "24be1fb0",
   "metadata": {
    "ExecuteTime": {
     "end_time": "2023-11-23T20:04:28.800244Z",
     "start_time": "2023-11-23T20:04:28.235439Z"
    }
   },
   "outputs": [],
   "source": [
    "import requests\n",
    "import numpy as np\n",
    "import apimoex\n",
    "import pandas as pd\n",
    "from datetime import date, timedelta\n",
    "import matplotlib.pyplot as plt"
   ]
  },
  {
   "cell_type": "code",
   "execution_count": 3,
   "id": "6da220e4",
   "metadata": {
    "ExecuteTime": {
     "end_time": "2023-11-23T20:04:28.805084Z",
     "start_time": "2023-11-23T20:04:28.801701Z"
    }
   },
   "outputs": [],
   "source": [
    "stock_quotes = ['GAZP', 'YNDX', 'RUAL', 'IRAO', 'GMKN', 'LKOH', 'MGNT', 'MTSS', 'NVTK', 'PLZL', 'ROSN', 'SBER',\n",
    "               'SNGS', 'TATN','CHMF']"
   ]
  },
  {
   "cell_type": "code",
   "execution_count": 4,
   "id": "09467f1a",
   "metadata": {
    "ExecuteTime": {
     "end_time": "2023-11-23T20:04:28.812234Z",
     "start_time": "2023-11-23T20:04:28.809348Z"
    }
   },
   "outputs": [],
   "source": [
    "# with requests.Session() as session:\n",
    "#     for elem in stock_quotes:\n",
    "#         data = apimoex.get_board_history(session, elem)\n",
    "#         df_2 = pd.DataFrame(data)\n",
    "#         df_2.rename(columns = {'CLOSE':elem}, inplace = True)\n",
    "#         print(elem, df_2['TRADEDATE'][0])"
   ]
  },
  {
   "cell_type": "code",
   "execution_count": 5,
   "id": "d00869ea",
   "metadata": {
    "ExecuteTime": {
     "end_time": "2023-11-23T20:04:28.820079Z",
     "start_time": "2023-11-23T20:04:28.814557Z"
    }
   },
   "outputs": [],
   "source": [
    "df = pd.DataFrame({\"Date\": pd.date_range(start='2015-03-30', freq='1d', end=date.today() - timedelta(days=1))})"
   ]
  },
  {
   "cell_type": "code",
   "execution_count": 6,
   "id": "10f9f44d",
   "metadata": {
    "ExecuteTime": {
     "end_time": "2023-11-23T20:04:28.832074Z",
     "start_time": "2023-11-23T20:04:28.822525Z"
    }
   },
   "outputs": [
    {
     "data": {
      "text/html": [
       "<div>\n",
       "<style scoped>\n",
       "    .dataframe tbody tr th:only-of-type {\n",
       "        vertical-align: middle;\n",
       "    }\n",
       "\n",
       "    .dataframe tbody tr th {\n",
       "        vertical-align: top;\n",
       "    }\n",
       "\n",
       "    .dataframe thead th {\n",
       "        text-align: right;\n",
       "    }\n",
       "</style>\n",
       "<table border=\"1\" class=\"dataframe\">\n",
       "  <thead>\n",
       "    <tr style=\"text-align: right;\">\n",
       "      <th></th>\n",
       "      <th>Date</th>\n",
       "    </tr>\n",
       "  </thead>\n",
       "  <tbody>\n",
       "    <tr>\n",
       "      <th>0</th>\n",
       "      <td>2015-03-30</td>\n",
       "    </tr>\n",
       "    <tr>\n",
       "      <th>1</th>\n",
       "      <td>2015-03-31</td>\n",
       "    </tr>\n",
       "    <tr>\n",
       "      <th>2</th>\n",
       "      <td>2015-04-01</td>\n",
       "    </tr>\n",
       "    <tr>\n",
       "      <th>3</th>\n",
       "      <td>2015-04-02</td>\n",
       "    </tr>\n",
       "    <tr>\n",
       "      <th>4</th>\n",
       "      <td>2015-04-03</td>\n",
       "    </tr>\n",
       "    <tr>\n",
       "      <th>...</th>\n",
       "      <td>...</td>\n",
       "    </tr>\n",
       "    <tr>\n",
       "      <th>3187</th>\n",
       "      <td>2023-12-20</td>\n",
       "    </tr>\n",
       "    <tr>\n",
       "      <th>3188</th>\n",
       "      <td>2023-12-21</td>\n",
       "    </tr>\n",
       "    <tr>\n",
       "      <th>3189</th>\n",
       "      <td>2023-12-22</td>\n",
       "    </tr>\n",
       "    <tr>\n",
       "      <th>3190</th>\n",
       "      <td>2023-12-23</td>\n",
       "    </tr>\n",
       "    <tr>\n",
       "      <th>3191</th>\n",
       "      <td>2023-12-24</td>\n",
       "    </tr>\n",
       "  </tbody>\n",
       "</table>\n",
       "<p>3192 rows × 1 columns</p>\n",
       "</div>"
      ],
      "text/plain": [
       "           Date\n",
       "0    2015-03-30\n",
       "1    2015-03-31\n",
       "2    2015-04-01\n",
       "3    2015-04-02\n",
       "4    2015-04-03\n",
       "...         ...\n",
       "3187 2023-12-20\n",
       "3188 2023-12-21\n",
       "3189 2023-12-22\n",
       "3190 2023-12-23\n",
       "3191 2023-12-24\n",
       "\n",
       "[3192 rows x 1 columns]"
      ]
     },
     "execution_count": 6,
     "metadata": {},
     "output_type": "execute_result"
    }
   ],
   "source": [
    "df"
   ]
  },
  {
   "cell_type": "code",
   "execution_count": 7,
   "id": "e7a03e05",
   "metadata": {
    "ExecuteTime": {
     "end_time": "2023-11-23T20:04:49.450295Z",
     "start_time": "2023-11-23T20:04:28.833696Z"
    }
   },
   "outputs": [],
   "source": [
    "with requests.Session() as session:\n",
    "    for elem in stock_quotes:\n",
    "        data = apimoex.get_board_history(session, elem)\n",
    "        data = pd.DataFrame(data)\n",
    "        data.rename(columns = {'CLOSE':elem}, inplace = True)\n",
    "        data['TRADEDATE'] = pd.to_datetime(data['TRADEDATE'])\n",
    "        data = data[data['TRADEDATE'] >= '2015-03-30' ]\n",
    "        df = df.merge(data[[elem, 'TRADEDATE']], left_on='Date', right_on='TRADEDATE', how='outer')\n",
    "        df = df.drop('TRADEDATE', axis=1)"
   ]
  },
  {
   "cell_type": "code",
   "execution_count": 8,
   "id": "6f281421",
   "metadata": {
    "ExecuteTime": {
     "end_time": "2023-11-23T20:04:49.458324Z",
     "start_time": "2023-11-23T20:04:49.452711Z"
    }
   },
   "outputs": [],
   "source": [
    "df = df.dropna()"
   ]
  },
  {
   "cell_type": "code",
   "execution_count": 9,
   "id": "309b0633",
   "metadata": {
    "ExecuteTime": {
     "end_time": "2023-11-23T20:04:49.481874Z",
     "start_time": "2023-11-23T20:04:49.460381Z"
    }
   },
   "outputs": [
    {
     "data": {
      "text/html": [
       "<div>\n",
       "<style scoped>\n",
       "    .dataframe tbody tr th:only-of-type {\n",
       "        vertical-align: middle;\n",
       "    }\n",
       "\n",
       "    .dataframe tbody tr th {\n",
       "        vertical-align: top;\n",
       "    }\n",
       "\n",
       "    .dataframe thead th {\n",
       "        text-align: right;\n",
       "    }\n",
       "</style>\n",
       "<table border=\"1\" class=\"dataframe\">\n",
       "  <thead>\n",
       "    <tr style=\"text-align: right;\">\n",
       "      <th></th>\n",
       "      <th>Date</th>\n",
       "      <th>GAZP</th>\n",
       "      <th>YNDX</th>\n",
       "      <th>RUAL</th>\n",
       "      <th>IRAO</th>\n",
       "      <th>GMKN</th>\n",
       "      <th>LKOH</th>\n",
       "      <th>MGNT</th>\n",
       "      <th>MTSS</th>\n",
       "      <th>NVTK</th>\n",
       "      <th>PLZL</th>\n",
       "      <th>ROSN</th>\n",
       "      <th>SBER</th>\n",
       "      <th>SNGS</th>\n",
       "      <th>TATN</th>\n",
       "      <th>CHMF</th>\n",
       "    </tr>\n",
       "  </thead>\n",
       "  <tbody>\n",
       "    <tr>\n",
       "      <th>0</th>\n",
       "      <td>2015-03-30</td>\n",
       "      <td>137.00</td>\n",
       "      <td>887.0</td>\n",
       "      <td>37.340</td>\n",
       "      <td>1.0450</td>\n",
       "      <td>10530.0</td>\n",
       "      <td>2657.0</td>\n",
       "      <td>11185.0</td>\n",
       "      <td>246.30</td>\n",
       "      <td>432.0</td>\n",
       "      <td>1028.0</td>\n",
       "      <td>247.50</td>\n",
       "      <td>63.01</td>\n",
       "      <td>35.690</td>\n",
       "      <td>278.9</td>\n",
       "      <td>657.00</td>\n",
       "    </tr>\n",
       "    <tr>\n",
       "      <th>1</th>\n",
       "      <td>2015-03-31</td>\n",
       "      <td>138.90</td>\n",
       "      <td>893.0</td>\n",
       "      <td>36.790</td>\n",
       "      <td>1.0999</td>\n",
       "      <td>10399.0</td>\n",
       "      <td>2705.0</td>\n",
       "      <td>11350.0</td>\n",
       "      <td>247.00</td>\n",
       "      <td>432.0</td>\n",
       "      <td>1016.5</td>\n",
       "      <td>252.15</td>\n",
       "      <td>62.88</td>\n",
       "      <td>35.100</td>\n",
       "      <td>287.0</td>\n",
       "      <td>658.00</td>\n",
       "    </tr>\n",
       "    <tr>\n",
       "      <th>2</th>\n",
       "      <td>2015-04-01</td>\n",
       "      <td>143.00</td>\n",
       "      <td>902.0</td>\n",
       "      <td>35.825</td>\n",
       "      <td>1.1200</td>\n",
       "      <td>10539.0</td>\n",
       "      <td>2755.0</td>\n",
       "      <td>11750.0</td>\n",
       "      <td>250.90</td>\n",
       "      <td>450.3</td>\n",
       "      <td>1028.0</td>\n",
       "      <td>261.35</td>\n",
       "      <td>64.50</td>\n",
       "      <td>35.990</td>\n",
       "      <td>300.1</td>\n",
       "      <td>644.50</td>\n",
       "    </tr>\n",
       "    <tr>\n",
       "      <th>3</th>\n",
       "      <td>2015-04-02</td>\n",
       "      <td>143.90</td>\n",
       "      <td>919.0</td>\n",
       "      <td>36.450</td>\n",
       "      <td>1.1034</td>\n",
       "      <td>10090.0</td>\n",
       "      <td>2780.5</td>\n",
       "      <td>11971.0</td>\n",
       "      <td>250.00</td>\n",
       "      <td>467.2</td>\n",
       "      <td>1011.0</td>\n",
       "      <td>262.55</td>\n",
       "      <td>65.92</td>\n",
       "      <td>37.000</td>\n",
       "      <td>301.5</td>\n",
       "      <td>643.00</td>\n",
       "    </tr>\n",
       "    <tr>\n",
       "      <th>4</th>\n",
       "      <td>2015-04-03</td>\n",
       "      <td>143.94</td>\n",
       "      <td>940.0</td>\n",
       "      <td>36.720</td>\n",
       "      <td>1.1050</td>\n",
       "      <td>10237.0</td>\n",
       "      <td>2824.8</td>\n",
       "      <td>11799.0</td>\n",
       "      <td>248.60</td>\n",
       "      <td>476.4</td>\n",
       "      <td>1013.0</td>\n",
       "      <td>263.70</td>\n",
       "      <td>65.50</td>\n",
       "      <td>36.690</td>\n",
       "      <td>299.0</td>\n",
       "      <td>641.05</td>\n",
       "    </tr>\n",
       "    <tr>\n",
       "      <th>...</th>\n",
       "      <td>...</td>\n",
       "      <td>...</td>\n",
       "      <td>...</td>\n",
       "      <td>...</td>\n",
       "      <td>...</td>\n",
       "      <td>...</td>\n",
       "      <td>...</td>\n",
       "      <td>...</td>\n",
       "      <td>...</td>\n",
       "      <td>...</td>\n",
       "      <td>...</td>\n",
       "      <td>...</td>\n",
       "      <td>...</td>\n",
       "      <td>...</td>\n",
       "      <td>...</td>\n",
       "      <td>...</td>\n",
       "    </tr>\n",
       "    <tr>\n",
       "      <th>3185</th>\n",
       "      <td>2023-12-18</td>\n",
       "      <td>167.00</td>\n",
       "      <td>2250.4</td>\n",
       "      <td>35.350</td>\n",
       "      <td>3.9975</td>\n",
       "      <td>17150.0</td>\n",
       "      <td>6723.5</td>\n",
       "      <td>6464.5</td>\n",
       "      <td>251.70</td>\n",
       "      <td>1501.0</td>\n",
       "      <td>10242.5</td>\n",
       "      <td>566.65</td>\n",
       "      <td>268.40</td>\n",
       "      <td>28.280</td>\n",
       "      <td>643.6</td>\n",
       "      <td>1283.20</td>\n",
       "    </tr>\n",
       "    <tr>\n",
       "      <th>3186</th>\n",
       "      <td>2023-12-19</td>\n",
       "      <td>165.48</td>\n",
       "      <td>2242.2</td>\n",
       "      <td>35.350</td>\n",
       "      <td>4.0065</td>\n",
       "      <td>17202.0</td>\n",
       "      <td>6709.0</td>\n",
       "      <td>6477.5</td>\n",
       "      <td>253.75</td>\n",
       "      <td>1531.4</td>\n",
       "      <td>10403.5</td>\n",
       "      <td>574.00</td>\n",
       "      <td>267.35</td>\n",
       "      <td>28.060</td>\n",
       "      <td>653.4</td>\n",
       "      <td>1307.20</td>\n",
       "    </tr>\n",
       "    <tr>\n",
       "      <th>3187</th>\n",
       "      <td>2023-12-20</td>\n",
       "      <td>163.56</td>\n",
       "      <td>2288.8</td>\n",
       "      <td>35.190</td>\n",
       "      <td>4.0370</td>\n",
       "      <td>17114.0</td>\n",
       "      <td>6735.0</td>\n",
       "      <td>6692.5</td>\n",
       "      <td>250.00</td>\n",
       "      <td>1531.2</td>\n",
       "      <td>10626.5</td>\n",
       "      <td>578.60</td>\n",
       "      <td>266.61</td>\n",
       "      <td>28.225</td>\n",
       "      <td>658.4</td>\n",
       "      <td>1330.00</td>\n",
       "    </tr>\n",
       "    <tr>\n",
       "      <th>3188</th>\n",
       "      <td>2023-12-21</td>\n",
       "      <td>161.57</td>\n",
       "      <td>2267.2</td>\n",
       "      <td>34.855</td>\n",
       "      <td>3.9900</td>\n",
       "      <td>17082.0</td>\n",
       "      <td>6702.0</td>\n",
       "      <td>6704.5</td>\n",
       "      <td>248.85</td>\n",
       "      <td>1478.2</td>\n",
       "      <td>10593.5</td>\n",
       "      <td>577.10</td>\n",
       "      <td>265.19</td>\n",
       "      <td>27.560</td>\n",
       "      <td>658.5</td>\n",
       "      <td>1336.60</td>\n",
       "    </tr>\n",
       "    <tr>\n",
       "      <th>3189</th>\n",
       "      <td>2023-12-22</td>\n",
       "      <td>162.09</td>\n",
       "      <td>2295.8</td>\n",
       "      <td>34.720</td>\n",
       "      <td>3.9910</td>\n",
       "      <td>17122.0</td>\n",
       "      <td>6732.5</td>\n",
       "      <td>6680.0</td>\n",
       "      <td>249.35</td>\n",
       "      <td>1489.6</td>\n",
       "      <td>10555.5</td>\n",
       "      <td>583.75</td>\n",
       "      <td>271.30</td>\n",
       "      <td>27.540</td>\n",
       "      <td>661.5</td>\n",
       "      <td>1333.80</td>\n",
       "    </tr>\n",
       "  </tbody>\n",
       "</table>\n",
       "<p>2184 rows × 16 columns</p>\n",
       "</div>"
      ],
      "text/plain": [
       "           Date    GAZP    YNDX    RUAL    IRAO     GMKN    LKOH     MGNT  \\\n",
       "0    2015-03-30  137.00   887.0  37.340  1.0450  10530.0  2657.0  11185.0   \n",
       "1    2015-03-31  138.90   893.0  36.790  1.0999  10399.0  2705.0  11350.0   \n",
       "2    2015-04-01  143.00   902.0  35.825  1.1200  10539.0  2755.0  11750.0   \n",
       "3    2015-04-02  143.90   919.0  36.450  1.1034  10090.0  2780.5  11971.0   \n",
       "4    2015-04-03  143.94   940.0  36.720  1.1050  10237.0  2824.8  11799.0   \n",
       "...         ...     ...     ...     ...     ...      ...     ...      ...   \n",
       "3185 2023-12-18  167.00  2250.4  35.350  3.9975  17150.0  6723.5   6464.5   \n",
       "3186 2023-12-19  165.48  2242.2  35.350  4.0065  17202.0  6709.0   6477.5   \n",
       "3187 2023-12-20  163.56  2288.8  35.190  4.0370  17114.0  6735.0   6692.5   \n",
       "3188 2023-12-21  161.57  2267.2  34.855  3.9900  17082.0  6702.0   6704.5   \n",
       "3189 2023-12-22  162.09  2295.8  34.720  3.9910  17122.0  6732.5   6680.0   \n",
       "\n",
       "        MTSS    NVTK     PLZL    ROSN    SBER    SNGS   TATN     CHMF  \n",
       "0     246.30   432.0   1028.0  247.50   63.01  35.690  278.9   657.00  \n",
       "1     247.00   432.0   1016.5  252.15   62.88  35.100  287.0   658.00  \n",
       "2     250.90   450.3   1028.0  261.35   64.50  35.990  300.1   644.50  \n",
       "3     250.00   467.2   1011.0  262.55   65.92  37.000  301.5   643.00  \n",
       "4     248.60   476.4   1013.0  263.70   65.50  36.690  299.0   641.05  \n",
       "...      ...     ...      ...     ...     ...     ...    ...      ...  \n",
       "3185  251.70  1501.0  10242.5  566.65  268.40  28.280  643.6  1283.20  \n",
       "3186  253.75  1531.4  10403.5  574.00  267.35  28.060  653.4  1307.20  \n",
       "3187  250.00  1531.2  10626.5  578.60  266.61  28.225  658.4  1330.00  \n",
       "3188  248.85  1478.2  10593.5  577.10  265.19  27.560  658.5  1336.60  \n",
       "3189  249.35  1489.6  10555.5  583.75  271.30  27.540  661.5  1333.80  \n",
       "\n",
       "[2184 rows x 16 columns]"
      ]
     },
     "execution_count": 9,
     "metadata": {},
     "output_type": "execute_result"
    }
   ],
   "source": [
    "df"
   ]
  },
  {
   "cell_type": "code",
   "execution_count": 10,
   "id": "ff1b44dd",
   "metadata": {
    "ExecuteTime": {
     "end_time": "2023-11-23T20:04:49.622214Z",
     "start_time": "2023-11-23T20:04:49.485445Z"
    }
   },
   "outputs": [
    {
     "data": {
      "text/plain": [
       "[<matplotlib.lines.Line2D at 0x7fe6d72343a0>]"
      ]
     },
     "execution_count": 10,
     "metadata": {},
     "output_type": "execute_result"
    },
    {
     "data": {
      "image/png": "[encoded data removed]",
      "text/plain": [
       "<Figure size 640x480 with 1 Axes>"
      ]
     },
     "metadata": {},
     "output_type": "display_data"
    }
   ],
   "source": [
    "plt.plot(list(df['GAZP']))"
   ]
  },
  {
   "cell_type": "code",
   "execution_count": 11,
   "id": "cf9420ee",
   "metadata": {
    "ExecuteTime": {
     "end_time": "2023-11-23T20:04:49.650795Z",
     "start_time": "2023-11-23T20:04:49.624924Z"
    }
   },
   "outputs": [],
   "source": [
    "df.to_csv(\"fin_quotes_per_day.csv\", index=False)"
   ]
  },
  {
   "cell_type": "code",
   "execution_count": null,
   "id": "c0278cbe",
   "metadata": {},
   "outputs": [],
   "source": []
  }
 ],
 "metadata": {
  "kernelspec": {
   "display_name": "Python 3 (ipykernel)",
   "language": "python",
   "name": "python3"
  },
  "language_info": {
   "codemirror_mode": {
    "name": "ipython",
    "version": 3
   },
   "file_extension": ".py",
   "mimetype": "text/x-python",
   "name": "python",
   "nbconvert_exporter": "python",
   "pygments_lexer": "ipython3",
   "version": "3.10.9"
  },
  "toc": {
   "base_numbering": 1,
   "nav_menu": {},
   "number_sections": true,
   "sideBar": true,
   "skip_h1_title": true,
   "title_cell": "Оглавление",
   "title_sidebar": "Оглавление",
   "toc_cell": true,
   "toc_position": {},
   "toc_section_display": true,
   "toc_window_display": false
  }
 },
 "nbformat": 4,
 "nbformat_minor": 5
}
