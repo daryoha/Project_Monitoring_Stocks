{
 "cells": [
  {
   "cell_type": "markdown",
   "id": "5fdc61d7",
   "metadata": {
    "toc": true
   },
   "source": [
    "<h1>Оглавление<span class=\"tocSkip\"></span></h1>\n",
    "<div class=\"toc\"><ul class=\"toc-item\"></ul></div>"
   ]
  },
  {
   "cell_type": "code",
   "execution_count": 1,
   "id": "ca0eb4dd",
   "metadata": {
    "ExecuteTime": {
     "end_time": "2023-11-23T19:56:48.139002Z",
     "start_time": "2023-11-23T19:56:48.135140Z"
    }
   },
   "outputs": [],
   "source": [
    "#!pip install apimoex"
   ]
  },
  {
   "cell_type": "code",
   "execution_count": 2,
   "id": "24be1fb0",
   "metadata": {
    "ExecuteTime": {
     "end_time": "2023-11-23T19:56:48.735974Z",
     "start_time": "2023-11-23T19:56:48.141858Z"
    }
   },
   "outputs": [],
   "source": [
    "import requests\n",
    "import numpy as np\n",
    "import apimoex\n",
    "import pandas as pd\n",
    "from datetime import date, timedelta\n",
    "import matplotlib.pyplot as plt"
   ]
  },
  {
   "cell_type": "code",
   "execution_count": 3,
   "id": "6da220e4",
   "metadata": {
    "ExecuteTime": {
     "end_time": "2023-11-23T19:56:48.741344Z",
     "start_time": "2023-11-23T19:56:48.738358Z"
    }
   },
   "outputs": [],
   "source": [
    "stock_quotes = ['GAZP', 'YNDX', 'RUAL', 'IRAO', 'GMKN', 'LKOH', 'MGNT', 'MTSS', 'NVTK', 'PLZL', 'ROSN', 'SBER',\n",
    "               'SNGS', 'TATN','CHMF']"
   ]
  },
  {
   "cell_type": "code",
   "execution_count": 4,
   "id": "09467f1a",
   "metadata": {
    "ExecuteTime": {
     "end_time": "2023-11-23T19:56:48.745068Z",
     "start_time": "2023-11-23T19:56:48.742752Z"
    }
   },
   "outputs": [],
   "source": [
    "# with requests.Session() as session:\n",
    "#     for elem in stock_quotes:\n",
    "#         data = apimoex.get_board_history(session, elem)\n",
    "#         df_2 = pd.DataFrame(data)\n",
    "#         df_2.rename(columns = {'CLOSE':elem}, inplace = True)\n",
    "#         print(elem, df_2['TRADEDATE'][0])"
   ]
  },
  {
   "cell_type": "code",
   "execution_count": 5,
   "id": "d00869ea",
   "metadata": {
    "ExecuteTime": {
     "end_time": "2023-11-23T19:56:48.751202Z",
     "start_time": "2023-11-23T19:56:48.747991Z"
    }
   },
   "outputs": [],
   "source": [
    "df = pd.DataFrame({\"Date\": pd.date_range(start='2015-03-30', freq='1d', end=date.today() - timedelta(days=1))})"
   ]
  },
  {
   "cell_type": "code",
   "execution_count": 6,
   "id": "10f9f44d",
   "metadata": {
    "ExecuteTime": {
     "end_time": "2023-11-23T19:56:48.761323Z",
     "start_time": "2023-11-23T19:56:48.752493Z"
    }
   },
   "outputs": [],
   "source": [
    "df"
   ]
  },
  {
   "cell_type": "code",
   "execution_count": 7,
   "id": "e7a03e05",
   "metadata": {
    "ExecuteTime": {
     "end_time": "2023-11-23T19:57:08.800466Z",
     "start_time": "2023-11-23T19:56:48.763127Z"
    }
   },
   "outputs": [],
   "source": [
    "with requests.Session() as session:\n",
    "    for elem in stock_quotes:\n",
    "        data = apimoex.get_board_history(session, elem)\n",
    "        data = pd.DataFrame(data)\n",
    "        data.rename(columns = {'CLOSE':elem}, inplace = True)\n",
    "        data['TRADEDATE'] = pd.to_datetime(data['TRADEDATE'])\n",
    "        data = data[data['TRADEDATE'] >= '2015-03-30' ]\n",
    "        df = df.merge(data[[elem, 'TRADEDATE']], left_on='Date', right_on='TRADEDATE', how='outer')\n",
    "        df = df.drop('TRADEDATE', axis=1)"
   ]
  },
  {
   "cell_type": "code",
   "execution_count": 8,
   "id": "6f281421",
   "metadata": {
    "ExecuteTime": {
     "end_time": "2023-11-23T19:57:08.808213Z",
     "start_time": "2023-11-23T19:57:08.803070Z"
    }
   },
   "outputs": [],
   "source": [
    "df = df.dropna()"
   ]
  },
  {
   "cell_type": "code",
   "execution_count": 12,
   "id": "309b0633",
   "metadata": {
    "ExecuteTime": {
     "end_time": "2023-11-23T19:58:03.882729Z",
     "start_time": "2023-11-23T19:58:03.863082Z"
    }
   },
   "outputs": [],
   "source": [
    "df"
   ]
  },
  {
   "cell_type": "code",
   "execution_count": 10,
   "id": "ff1b44dd",
   "metadata": {
    "ExecuteTime": {
     "end_time": "2023-11-23T19:57:08.963549Z",
     "start_time": "2023-11-23T19:57:08.831006Z"
    }
   },
   "outputs": [],
   "source": [
    "plt.plot(list(df['GAZP']))"
   ]
  },
  {
   "cell_type": "code",
   "execution_count": 11,
   "id": "cf9420ee",
   "metadata": {
    "ExecuteTime": {
     "end_time": "2023-11-23T19:57:08.992365Z",
     "start_time": "2023-11-23T19:57:08.966096Z"
    }
   },
   "outputs": [],
   "source": [
    "df.to_csv(\"fin_quotes_per_day.csv\", index=False)"
   ]
  },
  {
   "cell_type": "code",
   "execution_count": null,
   "id": "c0278cbe",
   "metadata": {},
   "outputs": [],
   "source": []
  }
 ],
 "metadata": {
  "kernelspec": {
   "display_name": "Python 3 (ipykernel)",
   "language": "python",
   "name": "python3"
  },
  "language_info": {
   "codemirror_mode": {
    "name": "ipython",
    "version": 3
   },
   "file_extension": ".py",
   "mimetype": "text/x-python",
   "name": "python",
   "nbconvert_exporter": "python",
   "pygments_lexer": "ipython3",
   "version": "3.10.12"
  },
  "toc": {
   "base_numbering": 1,
   "nav_menu": {},
   "number_sections": true,
   "sideBar": true,
   "skip_h1_title": true,
   "title_cell": "Оглавление",
   "title_sidebar": "Оглавление",
   "toc_cell": true,
   "toc_position": {},
   "toc_section_display": true,
   "toc_window_display": false
  }
 },
 "nbformat": 4,
 "nbformat_minor": 5
}
